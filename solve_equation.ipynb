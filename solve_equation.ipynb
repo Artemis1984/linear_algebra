{
 "cells": [
  {
   "cell_type": "code",
   "execution_count": 3,
   "metadata": {},
   "outputs": [
    {
     "name": "stdout",
     "output_type": "stream",
     "text": [
      "[-0.9999999999999996, 0.0, 1.0]\n"
     ]
    }
   ],
   "source": [
    "import numpy as np\n",
    "\n",
    "matrix = np.array([[2, 1, 3],\n",
    "                   [11, 7, 5],\n",
    "                   [9, 8, 4]])\n",
    "\n",
    "b = np.array([1, -6, -5])\n",
    "\n",
    "def solve_equation(A, b):\n",
    "    x_list = []\n",
    "    matrix_list = []\n",
    "    for i in range(matrix.shape[0]):\n",
    "        temp_matrix = A.copy()\n",
    "        temp_matrix.T[i] = b \n",
    "        matrix_list.append(temp_matrix)\n",
    "    for i in range(len(matrix_list)):\n",
    "        x_list.append(np.linalg.det(matrix_list[i])/np.linalg.det(A))\n",
    "    print(x_list)\n",
    "\n",
    "solve_equation(matrix, b)"
   ]
  }
 ],
 "metadata": {
  "kernelspec": {
   "display_name": "Python 3",
   "language": "python",
   "name": "python3"
  },
  "language_info": {
   "codemirror_mode": {
    "name": "ipython",
    "version": 3
   },
   "file_extension": ".py",
   "mimetype": "text/x-python",
   "name": "python",
   "nbconvert_exporter": "python",
   "pygments_lexer": "ipython3",
   "version": "3.7.6"
  }
 },
 "nbformat": 4,
 "nbformat_minor": 4
}
