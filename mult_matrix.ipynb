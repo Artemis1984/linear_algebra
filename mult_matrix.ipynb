{
 "cells": [
  {
   "cell_type": "code",
   "execution_count": 2,
   "metadata": {},
   "outputs": [
    {
     "name": "stdout",
     "output_type": "stream",
     "text": [
      "[[7, 10], [15, 22]]\n"
     ]
    }
   ],
   "source": [
    "def multiply_matrix(a, b):\n",
    "    if len(a[0]) == len(b) and all(len(a[0]) == len(a[i]) for i in range(len(a))) and all(len(b[0]) == len(b[i]) for i in range(len(b))):\n",
    "        temp_matrix = [[0 for i in range(len(a))] for j in range(len(b[0]))]\n",
    "        for i in range(len(a)):\n",
    "            for s in range(len(a)):\n",
    "                sum_ = 0\n",
    "                for j in range(len(b)):\n",
    "                    sum_ += a[s][j] * b[j][i]\n",
    "                temp_matrix[i][s] = sum_\n",
    "                \n",
    "\n",
    "        result_matrix = [[0 for i in range(len(a))] for j in range(len(b[0]))]\n",
    "        for i in range(len(temp_matrix)):\n",
    "            for j in range(len(temp_matrix[i])):\n",
    "                result_matrix[i][j] = temp_matrix[j][i]\n",
    "        print(result_matrix)\n",
    "    else:\n",
    "        print('умножение данных матриц невозможно!')\n",
    "    \n",
    "\n",
    "a = [[1, 2],\n",
    "     [3, 4]]\n",
    "\n",
    "b = [[1, 2],\n",
    "     [3, 4]]\n",
    "\n",
    "multiply_matrix(a, b)"
   ]
  }
 ],
 "metadata": {
  "kernelspec": {
   "display_name": "Python 3",
   "language": "python",
   "name": "python3"
  },
  "language_info": {
   "codemirror_mode": {
    "name": "ipython",
    "version": 3
   },
   "file_extension": ".py",
   "mimetype": "text/x-python",
   "name": "python",
   "nbconvert_exporter": "python",
   "pygments_lexer": "ipython3",
   "version": "3.7.6"
  }
 },
 "nbformat": 4,
 "nbformat_minor": 2
}
